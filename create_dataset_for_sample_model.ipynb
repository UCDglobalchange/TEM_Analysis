{
 "cells": [
  {
   "cell_type": "code",
   "execution_count": 2,
   "id": "a5e296b9-45ea-4105-9ba3-b1a73af599f5",
   "metadata": {},
   "outputs": [],
   "source": [
    "import numpy as np\n",
    "import pandas as pd\n",
    "import re\n",
    "import os\n",
    "import glob\n"
   ]
  },
  {
   "cell_type": "code",
   "execution_count": 3,
   "id": "c6c456b4-7e1a-4068-863b-b5c997f3b1c0",
   "metadata": {},
   "outputs": [
    {
     "name": "stdout",
     "output_type": "stream",
     "text": [
      "/home/smmrrr/TEM_Analysis\n"
     ]
    }
   ],
   "source": [
    "print(os.getcwd())\n"
   ]
  },
  {
   "cell_type": "code",
   "execution_count": 7,
   "id": "3e89393f-2c0a-47dc-867f-5a96078dc7f9",
   "metadata": {},
   "outputs": [
    {
     "data": {
      "text/plain": [
       "40"
      ]
     },
     "execution_count": 7,
     "metadata": {},
     "output_type": "execute_result"
    }
   ],
   "source": [
    "# get processed files\n",
    "\n",
    "paths = glob.glob(\n",
    "    '*merged_dataset*GL*'\n",
    ")\n",
    "i = 1\n",
    "len(paths)\n"
   ]
  },
  {
   "cell_type": "code",
   "execution_count": 5,
   "id": "bc205198-4b81-421f-a90f-ad866c5fe05f",
   "metadata": {},
   "outputs": [],
   "source": [
    "##read in global, annual CO2\n",
    "\n",
    "co2 = pd.read_csv('/group/moniergrp/TEM/climate/IGSM-CAM_windDrnd10_CS2p5_Fae-0p55_Kz0p05_bau/co2.1869-2100.glb'\n",
    "               ,  sep = '\\s+'\n",
    "                 , names = ['co2'])\n",
    "\n",
    "\n",
    "co2 = co2.reset_index()\n",
    "co2 = co2.rename(columns = {'index':'year'})\n",
    "\n"
   ]
  },
  {
   "cell_type": "code",
   "execution_count": 6,
   "id": "91898b5b-06d3-44c8-9b8b-43e26f0e3315",
   "metadata": {},
   "outputs": [],
   "source": [
    "for i in range(1, len(paths)):\n",
    "    merged_dataset = pd.read_csv(paths[i])\n",
    "\n",
    "    cohort_area = lambda x: np.average(x, weights=merged_dataset.loc[x.index, \"cohort_area\"])  # https://stackoverflow.com/questions/31521027/groupby-weighted-average-and-sum-in-pandas-dataframe\n",
    "    land_area = lambda x: np.average(x, weights=merged_dataset.loc[x.index, \"land_area\"])  # https://stackoverflow.com/questions/31521027/groupby-weighted-average-and-sum-in-pandas-dataframe\n",
    "\n",
    "    if (i==1):\n",
    "\n",
    "\n",
    "        merged_dataset_annual_loop = merged_dataset.groupby([\n",
    "                'year','current_veg', 'stand_age']).agg(cohort_area=('cohort_area', 'sum'), total_area=('land_area', 'sum'),\n",
    "                                                                                      NCE_weighted=('NCE', cohort_area), \n",
    "                                                                                   prec = ('prec', land_area),\n",
    "                                                                                   aot40 = ('aot40', land_area),\n",
    "                                                                                   tair = ('tair', land_area),\n",
    "                                                                                   nirr = ('nirr', land_area))\n",
    "    else:\n",
    "                                                        \n",
    "        merged_dataset_annual_loop = pd.concat([merged_dataset_annual_loop,\n",
    "                              merged_dataset.groupby([\n",
    "                'year','current_veg', 'stand_age']).agg(cohort_area=('cohort_area', 'sum'), total_area=('land_area', 'sum'),\n",
    "                                                                                      NCE_weighted=('NCE', cohort_area), \n",
    "                                                                                   prec = ('prec', land_area),\n",
    "                                                                                   aot40 = ('aot40', land_area),\n",
    "                                                                                   tair = ('tair', land_area),\n",
    "                                                                                   nirr = ('nirr', land_area))])\n",
    "                                                                                    "
   ]
  },
  {
   "cell_type": "code",
   "execution_count": null,
   "id": "26029b9b-35fe-4186-b5ef-040b5e8e9c08",
   "metadata": {},
   "outputs": [],
   "source": [
    "merged_dataset_annual_loop = merged_dataset_annual_loop.reset_index()\n",
    "merged_dataset_annual_loop = merged_dataset_annual_loop.merge(co2, how = 'left', on = 'year')"
   ]
  },
  {
   "cell_type": "code",
   "execution_count": null,
   "id": "25878069-1ce9-4dc3-9205-e50b53b7ce4e",
   "metadata": {},
   "outputs": [],
   "source": [
    "merged_dataset_annual_loop.to_csv('merged_dataset_annual_loop.csv')"
   ]
  }
 ],
 "metadata": {
  "kernelspec": {
   "display_name": "condaforge",
   "language": "python",
   "name": "condaforge"
  },
  "language_info": {
   "codemirror_mode": {
    "name": "ipython",
    "version": 3
   },
   "file_extension": ".py",
   "mimetype": "text/x-python",
   "name": "python",
   "nbconvert_exporter": "python",
   "pygments_lexer": "ipython3",
   "version": "3.10.6"
  }
 },
 "nbformat": 4,
 "nbformat_minor": 5
}
