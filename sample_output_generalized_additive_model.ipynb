{
 "cells": [
  {
   "cell_type": "code",
   "execution_count": 6,
   "id": "e23e2526-c51d-4526-b114-530572702180",
   "metadata": {},
   "outputs": [],
   "source": [
    "import xarray as xr\n",
    "import cftime \n",
    "import numpy as np\n",
    "import pandas as pd\n",
    "import matplotlib.pyplot as plt\n",
    "import re\n",
    "import os\n",
    "import time\n",
    "import logging\n",
    "import cartopy.crs as ccrs\n",
    "import metpy  \n",
    "import calendar\n",
    "import argparse\n",
    "import glob\n",
    "from pygam import GAM, LinearGAM, s, f, te\n",
    "from sklearn.model_selection import train_test_split\n"
   ]
  },
  {
   "cell_type": "code",
   "execution_count": 3,
   "id": "e3ccff81-2421-45a8-9f99-c676df561d1f",
   "metadata": {},
   "outputs": [],
   "source": [
    "merged_dataset_annual_loop = pd.read_csv('merged_dataset_annual_loop.csv')"
   ]
  },
  {
   "cell_type": "code",
   "execution_count": 4,
   "id": "b94e16bc-725d-48fc-9883-b3b0f40f1047",
   "metadata": {},
   "outputs": [],
   "source": [
    "##make dataset into array for modeling \n",
    "X = np.array(merged_dataset_annual_loop[['stand_age','tair','co2' , 'current_veg']])\n",
    "y = np.array(merged_dataset_annual_loop[['NCE_weighted']])"
   ]
  },
  {
   "cell_type": "code",
   "execution_count": 7,
   "id": "43dab3e1-d5d8-4fcf-aa85-cce5a848aad6",
   "metadata": {},
   "outputs": [],
   "source": [
    "## train/test split\n",
    "\n",
    "X_train, X_test, y_train, y_test = train_test_split(\n",
    "        X, y, test_size=0.40, random_state=42)\n"
   ]
  },
  {
   "cell_type": "code",
   "execution_count": 8,
   "id": "4d49d9f6-fbe2-426c-9883-9735a3fc9fa5",
   "metadata": {},
   "outputs": [],
   "source": [
    "##generalized additive model with three non linear variables (stand age, temperature, co2) and one categorical (PFTs)\n",
    "\n",
    "gam = LinearGAM(s(0) + s(1) + s(2) + f(3)).fit(X_train, y_train)"
   ]
  },
  {
   "cell_type": "code",
   "execution_count": 9,
   "id": "58adedab-dcad-4ba5-b6d6-d47e254ce9ae",
   "metadata": {},
   "outputs": [
    {
     "name": "stdout",
     "output_type": "stream",
     "text": [
      "LinearGAM                                                                                                 \n",
      "=============================================== ==========================================================\n",
      "Distribution:                        NormalDist Effective DoF:                                     47.8802\n",
      "Link Function:                     IdentityLink Log Likelihood:                               -6787541.371\n",
      "Number of Samples:                      1504551 AIC:                                         13575180.5025\n",
      "                                                AICc:                                        13575180.5057\n",
      "                                                GCV:                                               35.8198\n",
      "                                                Scale:                                             35.8177\n",
      "                                                Pseudo R-Squared:                                   0.2333\n",
      "==========================================================================================================\n",
      "Feature Function                  Lambda               Rank         EDoF         P > x        Sig. Code   \n",
      "================================= ==================== ============ ============ ============ ============\n",
      "s(0)                              [0.6]                20           9.8          1.11e-16     ***         \n",
      "s(1)                              [0.6]                20           17.2         1.11e-16     ***         \n",
      "s(2)                              [0.6]                20           19.0         1.11e-16     ***         \n",
      "f(3)                              [0.6]                3            2.0          1.11e-16     ***         \n",
      "intercept                                              1            0.0          3.66e-03     **          \n",
      "==========================================================================================================\n",
      "Significance codes:  0 '***' 0.001 '**' 0.01 '*' 0.05 '.' 0.1 ' ' 1\n",
      "\n",
      "WARNING: Fitting splines and a linear function to a feature introduces a model identifiability problem\n",
      "         which can cause p-values to appear significant when they are not.\n",
      "\n",
      "WARNING: p-values calculated in this manner behave correctly for un-penalized models or models with\n",
      "         known smoothing parameters, but when smoothing parameters have been estimated, the p-values\n",
      "         are typically lower than they should be, meaning that the tests reject the null too readily.\n"
     ]
    },
    {
     "name": "stderr",
     "output_type": "stream",
     "text": [
      "/tmp/ipykernel_86727/3358381670.py:1: UserWarning: KNOWN BUG: p-values computed in this summary are likely much smaller than they should be. \n",
      " \n",
      "Please do not make inferences based on these values! \n",
      "\n",
      "Collaborate on a solution, and stay up to date at: \n",
      "github.com/dswah/pyGAM/issues/163 \n",
      "\n",
      "  gam.summary()\n"
     ]
    }
   ],
   "source": [
    "gam.summary() ##note there is a bug with p-values, R does not have this issue with the GAM package"
   ]
  },
  {
   "cell_type": "code",
   "execution_count": 10,
   "id": "85eca82d-356d-4715-8503-8db055f0a177",
   "metadata": {},
   "outputs": [],
   "source": [
    "y_pred = gam.predict(X_test) ##predict \n"
   ]
  },
  {
   "cell_type": "code",
   "execution_count": 11,
   "id": "25fde0c7-86bc-4cad-ab6c-d54bfeb0defc",
   "metadata": {},
   "outputs": [],
   "source": [
    "##sample output file\n",
    "sample_output = pd.DataFrame(\n",
    "data = {\n",
    "'predicted_NCE': y_pred\n",
    ",'stand_age':X_test[:,0]\n",
    ",'tair':X_test[:,1]\n",
    ",'co2':X_test[:,2]\n",
    ", 'current_veg': X_test[:,3]\n",
    "    \n",
    "}\n",
    ")"
   ]
  },
  {
   "cell_type": "code",
   "execution_count": 14,
   "id": "b6f6de05-83bc-49ff-a2a9-20242c389947",
   "metadata": {},
   "outputs": [
    {
     "data": {
      "text/html": [
       "<div>\n",
       "<style scoped>\n",
       "    .dataframe tbody tr th:only-of-type {\n",
       "        vertical-align: middle;\n",
       "    }\n",
       "\n",
       "    .dataframe tbody tr th {\n",
       "        vertical-align: top;\n",
       "    }\n",
       "\n",
       "    .dataframe thead th {\n",
       "        text-align: right;\n",
       "    }\n",
       "</style>\n",
       "<table border=\"1\" class=\"dataframe\">\n",
       "  <thead>\n",
       "    <tr style=\"text-align: right;\">\n",
       "      <th></th>\n",
       "      <th>predicted_NCE</th>\n",
       "      <th>stand_age</th>\n",
       "      <th>tair</th>\n",
       "      <th>co2</th>\n",
       "      <th>current_veg</th>\n",
       "    </tr>\n",
       "  </thead>\n",
       "  <tbody>\n",
       "    <tr>\n",
       "      <th>count</th>\n",
       "      <td>1.003034e+06</td>\n",
       "      <td>1.003034e+06</td>\n",
       "      <td>1.003034e+06</td>\n",
       "      <td>1.003034e+06</td>\n",
       "      <td>1.003034e+06</td>\n",
       "    </tr>\n",
       "    <tr>\n",
       "      <th>mean</th>\n",
       "      <td>-1.158265e+00</td>\n",
       "      <td>2.353311e+02</td>\n",
       "      <td>8.931715e+00</td>\n",
       "      <td>4.552822e+02</td>\n",
       "      <td>3.234205e+01</td>\n",
       "    </tr>\n",
       "    <tr>\n",
       "      <th>std</th>\n",
       "      <td>3.298081e+00</td>\n",
       "      <td>1.902138e+02</td>\n",
       "      <td>5.024773e+00</td>\n",
       "      <td>1.852354e+02</td>\n",
       "      <td>3.781339e+00</td>\n",
       "    </tr>\n",
       "    <tr>\n",
       "      <th>min</th>\n",
       "      <td>-1.875464e+01</td>\n",
       "      <td>0.000000e+00</td>\n",
       "      <td>-1.099167e+01</td>\n",
       "      <td>2.892600e+02</td>\n",
       "      <td>1.000000e+01</td>\n",
       "    </tr>\n",
       "    <tr>\n",
       "      <th>25%</th>\n",
       "      <td>-1.313236e+00</td>\n",
       "      <td>1.030000e+02</td>\n",
       "      <td>5.167153e+00</td>\n",
       "      <td>3.071100e+02</td>\n",
       "      <td>3.300000e+01</td>\n",
       "    </tr>\n",
       "    <tr>\n",
       "      <th>50%</th>\n",
       "      <td>-3.611801e-01</td>\n",
       "      <td>2.170000e+02</td>\n",
       "      <td>8.958468e+00</td>\n",
       "      <td>3.649600e+02</td>\n",
       "      <td>3.300000e+01</td>\n",
       "    </tr>\n",
       "    <tr>\n",
       "      <th>75%</th>\n",
       "      <td>4.401282e-01</td>\n",
       "      <td>3.450000e+02</td>\n",
       "      <td>1.240000e+01</td>\n",
       "      <td>5.730000e+02</td>\n",
       "      <td>3.300000e+01</td>\n",
       "    </tr>\n",
       "    <tr>\n",
       "      <th>max</th>\n",
       "      <td>1.031390e+01</td>\n",
       "      <td>3.000000e+03</td>\n",
       "      <td>2.509917e+01</td>\n",
       "      <td>9.152900e+02</td>\n",
       "      <td>3.300000e+01</td>\n",
       "    </tr>\n",
       "  </tbody>\n",
       "</table>\n",
       "</div>"
      ],
      "text/plain": [
       "       predicted_NCE     stand_age          tair           co2   current_veg\n",
       "count   1.003034e+06  1.003034e+06  1.003034e+06  1.003034e+06  1.003034e+06\n",
       "mean   -1.158265e+00  2.353311e+02  8.931715e+00  4.552822e+02  3.234205e+01\n",
       "std     3.298081e+00  1.902138e+02  5.024773e+00  1.852354e+02  3.781339e+00\n",
       "min    -1.875464e+01  0.000000e+00 -1.099167e+01  2.892600e+02  1.000000e+01\n",
       "25%    -1.313236e+00  1.030000e+02  5.167153e+00  3.071100e+02  3.300000e+01\n",
       "50%    -3.611801e-01  2.170000e+02  8.958468e+00  3.649600e+02  3.300000e+01\n",
       "75%     4.401282e-01  3.450000e+02  1.240000e+01  5.730000e+02  3.300000e+01\n",
       "max     1.031390e+01  3.000000e+03  2.509917e+01  9.152900e+02  3.300000e+01"
      ]
     },
     "execution_count": 14,
     "metadata": {},
     "output_type": "execute_result"
    }
   ],
   "source": [
    "sample_output.describe()"
   ]
  },
  {
   "cell_type": "code",
   "execution_count": 15,
   "id": "3034a79a-2713-44aa-91a7-bf4f6e2cb14e",
   "metadata": {},
   "outputs": [],
   "source": [
    "sample_output.loc[0:100000].to_csv('sample_output_for_tem_emulator_response_curves.csv') ##output first 100k rows"
   ]
  }
 ],
 "metadata": {
  "kernelspec": {
   "display_name": "condaforge",
   "language": "python",
   "name": "condaforge"
  },
  "language_info": {
   "codemirror_mode": {
    "name": "ipython",
    "version": 3
   },
   "file_extension": ".py",
   "mimetype": "text/x-python",
   "name": "python",
   "nbconvert_exporter": "python",
   "pygments_lexer": "ipython3",
   "version": "3.10.6"
  }
 },
 "nbformat": 4,
 "nbformat_minor": 5
}
